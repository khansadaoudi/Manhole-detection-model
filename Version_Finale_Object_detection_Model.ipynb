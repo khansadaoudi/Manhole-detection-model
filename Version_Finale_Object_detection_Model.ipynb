{
 "cells": [
  {
   "cell_type": "markdown",
   "metadata": {},
   "source": [
    "<h1>Manhole Object Detection Model Test </h1>"
   ]
  },
  {
   "cell_type": "markdown",
   "metadata": {},
   "source": [
    "<p>This is script will let you test the model on a set of images collected from Google Street View we will explain in each cell the different steps </p>"
   ]
  },
  {
   "cell_type": "markdown",
   "metadata": {},
   "source": [
    "<h3>Step 1</h3>\n",
    "<p> First of all, we need to configure the different paths and import scripts.</p>\n",
    "<h4>1.1 Specify which device we will use </h4>"
   ]
  },
  {
   "cell_type": "code",
   "execution_count": null,
   "metadata": {},
   "outputs": [],
   "source": [
    "! pip install tensorflow"
   ]
  },
  {
   "cell_type": "code",
   "execution_count": 1,
   "metadata": {},
   "outputs": [],
   "source": [
    "import os # importing OS in order to make GPU visible\n",
    "os.environ[\"CUDA_DEVICE_ORDER\"]=\"PCI_BUS_ID\" # do not change anything in here\n",
    "# specify which device you want to work on. Default value \"0\" stands for the 1st GPU that will be used\n",
    "os.environ[\"CUDA_VISIBLE_DEVICES\"]=\"0\" "
   ]
  },
  {
   "cell_type": "code",
   "execution_count": 2,
   "metadata": {},
   "outputs": [
    {
     "name": "stdout",
     "output_type": "stream",
     "text": [
      "No GPU found\n"
     ]
    }
   ],
   "source": [
    "import tensorflow as tf # import tensorflow\n",
    "\n",
    "# checking that GPU is found\n",
    "if tf.test.gpu_device_name():\n",
    "    print('GPU found')\n",
    "else:\n",
    "    print(\"No GPU found\")"
   ]
  },
  {
   "cell_type": "code",
   "execution_count": 3,
   "metadata": {},
   "outputs": [],
   "source": [
    "# other import\n",
    "import numpy as np\n",
    "from PIL import Image\n",
    "from matplotlib import pyplot as plt\n",
    "from tqdm import tqdm\n",
    "import cv2"
   ]
  },
  {
   "cell_type": "markdown",
   "metadata": {},
   "source": [
    "<h4>1.2 Import libraries provided by Tensorflow API </h4>"
   ]
  },
  {
   "cell_type": "markdown",
   "metadata": {},
   "source": [
    "<p>we will import scripts that were already provided by Tensorflow API.</p>"
   ]
  },
  {
   "cell_type": "code",
   "execution_count": 4,
   "metadata": {},
   "outputs": [],
   "source": [
    "import sys # importing sys in order to access scripts located in a different folder\n",
    "\n",
    "path2scripts = 'Tensorflow/models/research/' # provide pass to the research folder\n",
    "sys.path.insert(0, path2scripts) # making scripts in models/research available for import"
   ]
  },
  {
   "cell_type": "code",
   "execution_count": 5,
   "metadata": {},
   "outputs": [
    {
     "name": "stdout",
     "output_type": "stream",
     "text": [
      "Requirement already satisfied: tf-slim in c:\\users\\me_student\\anaconda3\\lib\\site-packages (1.1.0)\n",
      "Requirement already satisfied: absl-py>=0.2.2 in c:\\users\\me_student\\anaconda3\\lib\\site-packages (from tf-slim) (1.0.0)\n",
      "Requirement already satisfied: six in c:\\users\\me_student\\anaconda3\\lib\\site-packages (from absl-py>=0.2.2->tf-slim) (1.16.0)\n",
      "Requirement already satisfied: tf-models-official in c:\\users\\me_student\\anaconda3\\lib\\site-packages (2.8.0)\n",
      "Requirement already satisfied: pyyaml<6.0,>=5.1 in c:\\users\\me_student\\anaconda3\\lib\\site-packages (from tf-models-official) (5.4.1)\n",
      "Requirement already satisfied: matplotlib in c:\\users\\me_student\\anaconda3\\lib\\site-packages (from tf-models-official) (3.4.3)\n",
      "Requirement already satisfied: sentencepiece in c:\\users\\me_student\\anaconda3\\lib\\site-packages (from tf-models-official) (0.1.96)\n",
      "Requirement already satisfied: six in c:\\users\\me_student\\anaconda3\\lib\\site-packages (from tf-models-official) (1.16.0)\n",
      "Requirement already satisfied: tensorflow-datasets in c:\\users\\me_student\\anaconda3\\lib\\site-packages (from tf-models-official) (4.5.2)\n",
      "Requirement already satisfied: tensorflow-addons in c:\\users\\me_student\\anaconda3\\lib\\site-packages (from tf-models-official) (0.16.1)\n",
      "Requirement already satisfied: seqeval in c:\\users\\me_student\\anaconda3\\lib\\site-packages (from tf-models-official) (1.2.2)\n",
      "Requirement already satisfied: tf-slim>=1.1.0 in c:\\users\\me_student\\anaconda3\\lib\\site-packages (from tf-models-official) (1.1.0)\n",
      "Requirement already satisfied: psutil>=5.4.3 in c:\\users\\me_student\\anaconda3\\lib\\site-packages (from tf-models-official) (5.8.0)\n",
      "Requirement already satisfied: numpy>=1.15.4 in c:\\users\\me_student\\anaconda3\\lib\\site-packages (from tf-models-official) (1.20.3)\n",
      "Requirement already satisfied: pycocotools in c:\\users\\me_student\\anaconda3\\lib\\site-packages (from tf-models-official) (2.0.4)\n",
      "Requirement already satisfied: tensorflow~=2.8.0 in c:\\users\\me_student\\anaconda3\\lib\\site-packages (from tf-models-official) (2.8.0)\n",
      "Requirement already satisfied: tensorflow-model-optimization>=0.4.1 in c:\\users\\me_student\\anaconda3\\lib\\site-packages (from tf-models-official) (0.7.2)\n",
      "Requirement already satisfied: oauth2client in c:\\users\\me_student\\anaconda3\\lib\\site-packages (from tf-models-official) (4.1.3)\n",
      "Requirement already satisfied: Cython in c:\\users\\me_student\\anaconda3\\lib\\site-packages (from tf-models-official) (0.29.24)\n",
      "Requirement already satisfied: google-api-python-client>=1.6.7 in c:\\users\\me_student\\anaconda3\\lib\\site-packages (from tf-models-official) (2.42.0)\n",
      "Requirement already satisfied: Pillow in c:\\users\\me_student\\anaconda3\\lib\\site-packages (from tf-models-official) (8.4.0)\n",
      "Requirement already satisfied: pandas>=0.22.0 in c:\\users\\me_student\\anaconda3\\lib\\site-packages (from tf-models-official) (1.3.4)\n",
      "Requirement already satisfied: sacrebleu in c:\\users\\me_student\\anaconda3\\lib\\site-packages (from tf-models-official) (2.0.0)\n",
      "Requirement already satisfied: gin-config in c:\\users\\me_student\\anaconda3\\lib\\site-packages (from tf-models-official) (0.5.0)\n",
      "Requirement already satisfied: tensorflow-hub>=0.6.0 in c:\\users\\me_student\\anaconda3\\lib\\site-packages (from tf-models-official) (0.12.0)\n",
      "Requirement already satisfied: scipy>=0.19.1 in c:\\users\\me_student\\anaconda3\\lib\\site-packages (from tf-models-official) (1.7.1)\n",
      "Requirement already satisfied: opencv-python-headless in c:\\users\\me_student\\anaconda3\\lib\\site-packages (from tf-models-official) (4.5.5.64)\n",
      "Requirement already satisfied: py-cpuinfo>=3.3.0 in c:\\users\\me_student\\anaconda3\\lib\\site-packages (from tf-models-official) (8.0.0)\n",
      "Requirement already satisfied: tensorflow-text~=2.8.0 in c:\\users\\me_student\\anaconda3\\lib\\site-packages (from tf-models-official) (2.8.1)\n",
      "Requirement already satisfied: kaggle>=1.3.9 in c:\\users\\me_student\\anaconda3\\lib\\site-packages (from tf-models-official) (1.5.12)\n",
      "Requirement already satisfied: google-auth-httplib2>=0.1.0 in c:\\users\\me_student\\anaconda3\\lib\\site-packages (from google-api-python-client>=1.6.7->tf-models-official) (0.1.0)\n",
      "Requirement already satisfied: uritemplate<5,>=3.0.1 in c:\\users\\me_student\\anaconda3\\lib\\site-packages (from google-api-python-client>=1.6.7->tf-models-official) (4.1.1)\n",
      "Requirement already satisfied: google-api-core!=2.0.*,!=2.1.*,!=2.2.*,!=2.3.0,<3.0.0dev,>=1.31.5 in c:\\users\\me_student\\anaconda3\\lib\\site-packages (from google-api-python-client>=1.6.7->tf-models-official) (2.7.1)\n",
      "Requirement already satisfied: httplib2<1dev,>=0.15.0 in c:\\users\\me_student\\anaconda3\\lib\\site-packages (from google-api-python-client>=1.6.7->tf-models-official) (0.20.4)\n",
      "Requirement already satisfied: google-auth<3.0.0dev,>=1.16.0 in c:\\users\\me_student\\anaconda3\\lib\\site-packages (from google-api-python-client>=1.6.7->tf-models-official) (2.6.2)\n",
      "Requirement already satisfied: requests<3.0.0dev,>=2.18.0 in c:\\users\\me_student\\anaconda3\\lib\\site-packages (from google-api-core!=2.0.*,!=2.1.*,!=2.2.*,!=2.3.0,<3.0.0dev,>=1.31.5->google-api-python-client>=1.6.7->tf-models-official) (2.26.0)\n",
      "Requirement already satisfied: protobuf>=3.12.0 in c:\\users\\me_student\\anaconda3\\lib\\site-packages (from google-api-core!=2.0.*,!=2.1.*,!=2.2.*,!=2.3.0,<3.0.0dev,>=1.31.5->google-api-python-client>=1.6.7->tf-models-official) (3.19.4)\n",
      "Requirement already satisfied: googleapis-common-protos<2.0dev,>=1.52.0 in c:\\users\\me_student\\anaconda3\\lib\\site-packages (from google-api-core!=2.0.*,!=2.1.*,!=2.2.*,!=2.3.0,<3.0.0dev,>=1.31.5->google-api-python-client>=1.6.7->tf-models-official) (1.56.0)\n",
      "Requirement already satisfied: rsa<5,>=3.1.4 in c:\\users\\me_student\\anaconda3\\lib\\site-packages (from google-auth<3.0.0dev,>=1.16.0->google-api-python-client>=1.6.7->tf-models-official) (4.8)\n",
      "Requirement already satisfied: cachetools<6.0,>=2.0.0 in c:\\users\\me_student\\anaconda3\\lib\\site-packages (from google-auth<3.0.0dev,>=1.16.0->google-api-python-client>=1.6.7->tf-models-official) (5.0.0)\n",
      "Requirement already satisfied: pyasn1-modules>=0.2.1 in c:\\users\\me_student\\anaconda3\\lib\\site-packages (from google-auth<3.0.0dev,>=1.16.0->google-api-python-client>=1.6.7->tf-models-official) (0.2.8)\n",
      "Requirement already satisfied: pyparsing!=3.0.0,!=3.0.1,!=3.0.2,!=3.0.3,<4,>=2.4.2 in c:\\users\\me_student\\anaconda3\\lib\\site-packages (from httplib2<1dev,>=0.15.0->google-api-python-client>=1.6.7->tf-models-official) (3.0.4)\n",
      "Requirement already satisfied: tqdm in c:\\users\\me_student\\anaconda3\\lib\\site-packages (from kaggle>=1.3.9->tf-models-official) (4.62.3)\n",
      "Requirement already satisfied: python-slugify in c:\\users\\me_student\\anaconda3\\lib\\site-packages (from kaggle>=1.3.9->tf-models-official) (5.0.2)\n",
      "Requirement already satisfied: python-dateutil in c:\\users\\me_student\\anaconda3\\lib\\site-packages (from kaggle>=1.3.9->tf-models-official) (2.8.2)\n",
      "Requirement already satisfied: certifi in c:\\users\\me_student\\anaconda3\\lib\\site-packages (from kaggle>=1.3.9->tf-models-official) (2021.10.8)\n",
      "Requirement already satisfied: urllib3 in c:\\users\\me_student\\anaconda3\\lib\\site-packages (from kaggle>=1.3.9->tf-models-official) (1.26.7)\n",
      "Requirement already satisfied: pytz>=2017.3 in c:\\users\\me_student\\anaconda3\\lib\\site-packages (from pandas>=0.22.0->tf-models-official) (2021.3)\n",
      "Requirement already satisfied: pyasn1<0.5.0,>=0.4.6 in c:\\users\\me_student\\anaconda3\\lib\\site-packages (from pyasn1-modules>=0.2.1->google-auth<3.0.0dev,>=1.16.0->google-api-python-client>=1.6.7->tf-models-official) (0.4.8)\n",
      "Requirement already satisfied: charset-normalizer~=2.0.0 in c:\\users\\me_student\\anaconda3\\lib\\site-packages (from requests<3.0.0dev,>=2.18.0->google-api-core!=2.0.*,!=2.1.*,!=2.2.*,!=2.3.0,<3.0.0dev,>=1.31.5->google-api-python-client>=1.6.7->tf-models-official) (2.0.4)\n",
      "Requirement already satisfied: idna<4,>=2.5 in c:\\users\\me_student\\anaconda3\\lib\\site-packages (from requests<3.0.0dev,>=2.18.0->google-api-core!=2.0.*,!=2.1.*,!=2.2.*,!=2.3.0,<3.0.0dev,>=1.31.5->google-api-python-client>=1.6.7->tf-models-official) (3.2)\n",
      "Requirement already satisfied: astunparse>=1.6.0 in c:\\users\\me_student\\anaconda3\\lib\\site-packages (from tensorflow~=2.8.0->tf-models-official) (1.6.3)\n",
      "Requirement already satisfied: gast>=0.2.1 in c:\\users\\me_student\\anaconda3\\lib\\site-packages (from tensorflow~=2.8.0->tf-models-official) (0.5.3)\n"
     ]
    },
    {
     "name": "stdout",
     "output_type": "stream",
     "text": [
      "Requirement already satisfied: tensorboard<2.9,>=2.8 in c:\\users\\me_student\\anaconda3\\lib\\site-packages (from tensorflow~=2.8.0->tf-models-official) (2.8.0)\n",
      "Requirement already satisfied: google-pasta>=0.1.1 in c:\\users\\me_student\\anaconda3\\lib\\site-packages (from tensorflow~=2.8.0->tf-models-official) (0.2.0)\n",
      "Requirement already satisfied: keras<2.9,>=2.8.0rc0 in c:\\users\\me_student\\anaconda3\\lib\\site-packages (from tensorflow~=2.8.0->tf-models-official) (2.8.0)\n",
      "Requirement already satisfied: typing-extensions>=3.6.6 in c:\\users\\me_student\\anaconda3\\lib\\site-packages (from tensorflow~=2.8.0->tf-models-official) (3.10.0.2)\n",
      "Requirement already satisfied: keras-preprocessing>=1.1.1 in c:\\users\\me_student\\anaconda3\\lib\\site-packages (from tensorflow~=2.8.0->tf-models-official) (1.1.2)\n",
      "Requirement already satisfied: tensorflow-io-gcs-filesystem>=0.23.1 in c:\\users\\me_student\\anaconda3\\lib\\site-packages (from tensorflow~=2.8.0->tf-models-official) (0.24.0)\n",
      "Requirement already satisfied: flatbuffers>=1.12 in c:\\users\\me_student\\anaconda3\\lib\\site-packages (from tensorflow~=2.8.0->tf-models-official) (2.0)\n",
      "Requirement already satisfied: absl-py>=0.4.0 in c:\\users\\me_student\\anaconda3\\lib\\site-packages (from tensorflow~=2.8.0->tf-models-official) (1.0.0)\n",
      "Requirement already satisfied: opt-einsum>=2.3.2 in c:\\users\\me_student\\anaconda3\\lib\\site-packages (from tensorflow~=2.8.0->tf-models-official) (3.3.0)\n",
      "Requirement already satisfied: h5py>=2.9.0 in c:\\users\\me_student\\anaconda3\\lib\\site-packages (from tensorflow~=2.8.0->tf-models-official) (3.2.1)\n",
      "Requirement already satisfied: libclang>=9.0.1 in c:\\users\\me_student\\anaconda3\\lib\\site-packages (from tensorflow~=2.8.0->tf-models-official) (13.0.0)\n",
      "Requirement already satisfied: termcolor>=1.1.0 in c:\\users\\me_student\\anaconda3\\lib\\site-packages (from tensorflow~=2.8.0->tf-models-official) (1.1.0)\n",
      "Requirement already satisfied: grpcio<2.0,>=1.24.3 in c:\\users\\me_student\\anaconda3\\lib\\site-packages (from tensorflow~=2.8.0->tf-models-official) (1.44.0)\n",
      "Requirement already satisfied: setuptools in c:\\users\\me_student\\anaconda3\\lib\\site-packages (from tensorflow~=2.8.0->tf-models-official) (58.0.4)\n",
      "Requirement already satisfied: wrapt>=1.11.0 in c:\\users\\me_student\\anaconda3\\lib\\site-packages (from tensorflow~=2.8.0->tf-models-official) (1.12.1)\n",
      "Requirement already satisfied: tf-estimator-nightly==2.8.0.dev2021122109 in c:\\users\\me_student\\anaconda3\\lib\\site-packages (from tensorflow~=2.8.0->tf-models-official) (2.8.0.dev2021122109)\n",
      "Requirement already satisfied: wheel<1.0,>=0.23.0 in c:\\users\\me_student\\anaconda3\\lib\\site-packages (from astunparse>=1.6.0->tensorflow~=2.8.0->tf-models-official) (0.37.0)\n",
      "Requirement already satisfied: tensorboard-data-server<0.7.0,>=0.6.0 in c:\\users\\me_student\\anaconda3\\lib\\site-packages (from tensorboard<2.9,>=2.8->tensorflow~=2.8.0->tf-models-official) (0.6.1)\n",
      "Requirement already satisfied: google-auth-oauthlib<0.5,>=0.4.1 in c:\\users\\me_student\\anaconda3\\lib\\site-packages (from tensorboard<2.9,>=2.8->tensorflow~=2.8.0->tf-models-official) (0.4.6)\n",
      "Requirement already satisfied: werkzeug>=0.11.15 in c:\\users\\me_student\\anaconda3\\lib\\site-packages (from tensorboard<2.9,>=2.8->tensorflow~=2.8.0->tf-models-official) (2.0.2)\n",
      "Requirement already satisfied: tensorboard-plugin-wit>=1.6.0 in c:\\users\\me_student\\anaconda3\\lib\\site-packages (from tensorboard<2.9,>=2.8->tensorflow~=2.8.0->tf-models-official) (1.8.1)\n",
      "Requirement already satisfied: markdown>=2.6.8 in c:\\users\\me_student\\anaconda3\\lib\\site-packages (from tensorboard<2.9,>=2.8->tensorflow~=2.8.0->tf-models-official) (3.3.6)\n",
      "Requirement already satisfied: requests-oauthlib>=0.7.0 in c:\\users\\me_student\\anaconda3\\lib\\site-packages (from google-auth-oauthlib<0.5,>=0.4.1->tensorboard<2.9,>=2.8->tensorflow~=2.8.0->tf-models-official) (1.3.1)\n",
      "Requirement already satisfied: importlib-metadata>=4.4 in c:\\users\\me_student\\anaconda3\\lib\\site-packages (from markdown>=2.6.8->tensorboard<2.9,>=2.8->tensorflow~=2.8.0->tf-models-official) (4.8.1)\n",
      "Requirement already satisfied: zipp>=0.5 in c:\\users\\me_student\\anaconda3\\lib\\site-packages (from importlib-metadata>=4.4->markdown>=2.6.8->tensorboard<2.9,>=2.8->tensorflow~=2.8.0->tf-models-official) (3.6.0)\n",
      "Requirement already satisfied: oauthlib>=3.0.0 in c:\\users\\me_student\\anaconda3\\lib\\site-packages (from requests-oauthlib>=0.7.0->google-auth-oauthlib<0.5,>=0.4.1->tensorboard<2.9,>=2.8->tensorflow~=2.8.0->tf-models-official) (3.2.0)\n",
      "Requirement already satisfied: dm-tree~=0.1.1 in c:\\users\\me_student\\anaconda3\\lib\\site-packages (from tensorflow-model-optimization>=0.4.1->tf-models-official) (0.1.6)\n",
      "Requirement already satisfied: kiwisolver>=1.0.1 in c:\\users\\me_student\\anaconda3\\lib\\site-packages (from matplotlib->tf-models-official) (1.3.1)\n",
      "Requirement already satisfied: cycler>=0.10 in c:\\users\\me_student\\anaconda3\\lib\\site-packages (from matplotlib->tf-models-official) (0.10.0)\n",
      "Requirement already satisfied: text-unidecode>=1.3 in c:\\users\\me_student\\anaconda3\\lib\\site-packages (from python-slugify->kaggle>=1.3.9->tf-models-official) (1.3)\n",
      "Requirement already satisfied: colorama in c:\\users\\me_student\\anaconda3\\lib\\site-packages (from sacrebleu->tf-models-official) (0.4.4)\n",
      "Requirement already satisfied: portalocker in c:\\users\\me_student\\anaconda3\\lib\\site-packages (from sacrebleu->tf-models-official) (2.4.0)\n",
      "Requirement already satisfied: tabulate>=0.8.9 in c:\\users\\me_student\\anaconda3\\lib\\site-packages (from sacrebleu->tf-models-official) (0.8.9)\n",
      "Requirement already satisfied: regex in c:\\users\\me_student\\anaconda3\\lib\\site-packages (from sacrebleu->tf-models-official) (2021.8.3)\n",
      "Requirement already satisfied: pywin32>=226 in c:\\users\\me_student\\anaconda3\\lib\\site-packages (from portalocker->sacrebleu->tf-models-official) (228)\n",
      "Requirement already satisfied: scikit-learn>=0.21.3 in c:\\users\\me_student\\anaconda3\\lib\\site-packages (from seqeval->tf-models-official) (0.24.2)\n",
      "Requirement already satisfied: joblib>=0.11 in c:\\users\\me_student\\anaconda3\\lib\\site-packages (from scikit-learn>=0.21.3->seqeval->tf-models-official) (1.1.0)\n",
      "Requirement already satisfied: threadpoolctl>=2.0.0 in c:\\users\\me_student\\anaconda3\\lib\\site-packages (from scikit-learn>=0.21.3->seqeval->tf-models-official) (2.2.0)\n",
      "Requirement already satisfied: typeguard>=2.7 in c:\\users\\me_student\\anaconda3\\lib\\site-packages (from tensorflow-addons->tf-models-official) (2.13.3)\n",
      "Requirement already satisfied: tensorflow-metadata in c:\\users\\me_student\\anaconda3\\lib\\site-packages (from tensorflow-datasets->tf-models-official) (1.7.0)\n",
      "Requirement already satisfied: promise in c:\\users\\me_student\\anaconda3\\lib\\site-packages (from tensorflow-datasets->tf-models-official) (2.3)\n",
      "Requirement already satisfied: dill in c:\\users\\me_student\\anaconda3\\lib\\site-packages (from tensorflow-datasets->tf-models-official) (0.3.4)\n",
      "Requirement already satisfied: tensorflow-io in c:\\users\\me_student\\anaconda3\\lib\\site-packages (0.24.0)\n",
      "Requirement already satisfied: tensorflow-io-gcs-filesystem==0.24.0 in c:\\users\\me_student\\anaconda3\\lib\\site-packages (from tensorflow-io) (0.24.0)\n"
     ]
    }
   ],
   "source": [
    "#first you need to install some libraries\n",
    "! pip install tf-slim\n",
    "! pip install tf-models-official\n",
    "! pip install tensorflow-io"
   ]
  },
  {
   "cell_type": "code",
   "execution_count": 6,
   "metadata": {},
   "outputs": [],
   "source": [
    "# importing all scripts that will be needed to export your model and use it for inference\n",
    "from object_detection.utils import label_map_util\n",
    "from object_detection.utils import config_util\n",
    "from object_detection.utils import visualization_utils as viz_utils\n",
    "from object_detection.builders import model_builder"
   ]
  },
  {
   "cell_type": "markdown",
   "metadata": {},
   "source": [
    "<h4>1.3 Import trained model </h4>"
   ]
  },
  {
   "cell_type": "code",
   "execution_count": 7,
   "metadata": {},
   "outputs": [],
   "source": [
    "#  specify two pathes: to the pipeline.config file and to the folder with trained model.\n",
    "\n",
    "path2config ='Tensorflow/workspace/training_demo/exported-models/my_modelfinal/pipeline.config'\n",
    "path2model = 'Tensorflow/workspace/training_demo/exported-models/my_modelfinal/checkpoint'"
   ]
  },
  {
   "cell_type": "code",
   "execution_count": 8,
   "metadata": {},
   "outputs": [],
   "source": [
    "configs = config_util.get_configs_from_pipeline_file(path2config) # importing config\n",
    "model_config = configs['model'] # recreating model config\n",
    "detection_model = model_builder.build(model_config=model_config, is_training=False) # importing model"
   ]
  },
  {
   "cell_type": "code",
   "execution_count": 9,
   "metadata": {},
   "outputs": [
    {
     "data": {
      "text/plain": [
       "<tensorflow.python.training.tracking.util.CheckpointLoadStatus at 0x26f7b3143a0>"
      ]
     },
     "execution_count": 9,
     "metadata": {},
     "output_type": "execute_result"
    }
   ],
   "source": [
    "ckpt = tf.compat.v2.train.Checkpoint(model=detection_model)# getting checkpoints \n",
    "ckpt.restore(os.path.join(path2model, 'ckpt-0')).expect_partial()"
   ]
  },
  {
   "cell_type": "code",
   "execution_count": 10,
   "metadata": {},
   "outputs": [],
   "source": [
    "#path to label map should be provided. Category index will be created based on labal map file\n",
    "path2label_map = 'Tensorflow/workspace/training_demo/annotations/label_map.pbtxt' # TODO: provide a path to the label map file\n",
    "category_index = label_map_util.create_category_index_from_labelmap(path2label_map,use_display_name=True)"
   ]
  },
  {
   "cell_type": "markdown",
   "metadata": {},
   "source": [
    "<h3>Step 2</h3>\n",
    "<p>In this step we will detect manholes and their coordinates we will save them in csv file</p>\n",
    "<h4>2.1 Support functions </h4>"
   ]
  },
  {
   "cell_type": "code",
   "execution_count": 11,
   "metadata": {},
   "outputs": [],
   "source": [
    "#this function will detect the objects of models \n",
    "def detect_fn(image):\n",
    "\n",
    "\n",
    "    image, shapes = detection_model.preprocess(image)\n",
    "    prediction_dict = detection_model.predict(image, shapes)\n",
    "    detections = detection_model.postprocess(prediction_dict, shapes)\n",
    "\n",
    "    return detections"
   ]
  },
  {
   "cell_type": "code",
   "execution_count": 12,
   "metadata": {},
   "outputs": [],
   "source": [
    "#this function load image into numpy array \n",
    "def load_image_into_numpy_array(path):\n",
    "\n",
    "    return np.array(Image.open(path))"
   ]
  },
  {
   "cell_type": "code",
   "execution_count": 13,
   "metadata": {},
   "outputs": [],
   "source": [
    "#this function will detect manholes and save the coordinates of boxes that will be used after for coordinates detection\n",
    "def save_detect_img(image_path,k,local):\n",
    "\n",
    "    print('Running inference for {}... '.format(image_path), end='')\n",
    "   \n",
    "    image_np = load_image_into_numpy_array(image_path)\n",
    "    input_tensor = tf.convert_to_tensor(np.expand_dims(image_np, 0), dtype=tf.float32)\n",
    "    detections = detect_fn(input_tensor)\n",
    "\n",
    "    # All outputs are batches tensors.\n",
    "    # Convert to numpy arrays, and take index [0] to remove the batch dimension.\n",
    "    # We're only interested in the first num_detections.\n",
    "    num_detections = int(detections.pop('num_detections'))\n",
    "    detections = {key: value[0, :num_detections].numpy()\n",
    "                  for key, value in detections.items()}\n",
    "\n",
    "    detections['num_detections'] = num_detections\n",
    "\n",
    "    # detection_classes should be ints.\n",
    "    detections['detection_classes'] = detections['detection_classes'].astype(np.int64)\n",
    "    label_id_offset = 1\n",
    "    image_np_with_detections = image_np.copy()\n",
    "    \n",
    "    #visualize the boxes in image of \n",
    "    viz_utils.visualize_boxes_and_labels_on_image_array(\n",
    "            image_np_with_detections,\n",
    "            detections['detection_boxes'],\n",
    "            detections['detection_classes']+label_id_offset,\n",
    "            detections['detection_scores'],\n",
    "            category_index,\n",
    "            use_normalized_coordinates=True,\n",
    "            max_boxes_to_draw=200,\n",
    "            min_score_thresh=0.25,\n",
    "            agnostic_mode=False,\n",
    "            line_thickness=5)\n",
    "    \n",
    "    # This is the way I'm getting my coordinates\n",
    "    boxes = detections['detection_boxes']\n",
    "    # get all boxes from an array\n",
    "    max_boxes_to_draw = boxes.shape[0]\n",
    "    # get scores to get a threshold\n",
    "    scores = detections['detection_scores']\n",
    "    # this is set as a default but feel free to adjust it to your needs\n",
    "    min_score_thresh=.2\n",
    "    # iterate over all objects found\n",
    "    for i in range(min(max_boxes_to_draw, boxes.shape[0])):\n",
    "        # \n",
    "        if scores is None or scores[i] > min_score_thresh:\n",
    "            # boxes[i] is the box which will be drawn\n",
    "            (ymin,xmin,ymax,xmax)=boxes[i]\n",
    "            # save coordinates \n",
    "            coordonn=(ymin,xmin,ymax,xmax,i,scores[i])\n",
    "            local.append(coordonn)  \n",
    "    path_detect='image_detct_part_'+str(k)+'.jpg'\n",
    "    cv2.imwrite( path_detect,cv2.cvtColor(image_np_with_detections, cv2.COLOR_BGR2RGB))\n",
    "    return path_detect\n",
    " "
   ]
  },
  {
   "cell_type": "code",
   "execution_count": 14,
   "metadata": {},
   "outputs": [],
   "source": [
    "#this function will calculate goegraphic coordinate of image using metadata of camera the height and the width of image and center of the box  \n",
    "import math\n",
    "def count_geo_coordinate(lanc,latc,hc,yawc,w,h,y,x):\n",
    "    #calculate z \n",
    "    z= -h/math.tan(-y*(math.pi/h)+(math.pi/2))\n",
    "    #calculate ex\n",
    "    ex=math.sin(math.sin(x*(math.pi/2)-math.pi+yawc))*z\n",
    "    #calculate ey\n",
    "    ey=math.cos(math.cos(x*(math.pi/2)-math.pi+yawc))*z\n",
    "    #calculate latitude\n",
    "    lat=latc+math.asin(ey/6371)\n",
    "    #calculate longitude\n",
    "    lang=lanc+math.asin(ex/(math.cos(latc))*1/6370)\n",
    "    \n",
    "    return lat,lang"
   ]
  },
  {
   "cell_type": "code",
   "execution_count": 15,
   "metadata": {},
   "outputs": [],
   "source": [
    "#this function will help us to detect cropped boxes and save their coordinates in list (li)\n",
    "#(ymin,xmin,ymax,xmax,i,score(i))\n",
    "def detect_cropped_boxes(mat,li):\n",
    "    \n",
    "    A =mat[0][1]\n",
    "    B= mat[1][1] #cropped box will be in two boxes consecutive the cropped boxes will have the same Y and the Xmax of the\n",
    "    #second will be the Xmin of the second \n",
    "    for i in range(len(A)):\n",
    "        for j in range(len(B)):\n",
    "            if ( (A[i][0])==(B[j][0]) and (A[i][2])==(B[j][2])):\n",
    "                if (A[i][3]== B[j][1]):\n",
    "                    return True \n",
    "                    li.append((mat[0][0],mat[1][0],i,j))\n",
    "\n",
    "    B= mat[1][1]\n",
    "    C= mat[2][1]\n",
    "    for l in range(len(B)):\n",
    "        for k in range(len(C)):\n",
    "            if ( (B[l][0])==(C[k][0]) and (B[l][2])==(C[k][2])):\n",
    "\n",
    "                if (B[l][3]== C[k][1]):\n",
    "                    li.append((mat[1][0],mat[2][0],l,k))\n",
    "                    return True"
   ]
  },
  {
   "cell_type": "code",
   "execution_count": 16,
   "metadata": {},
   "outputs": [],
   "source": [
    "#this function will update the list of boxes we will save the box in the image where it will have the highest percentage \n",
    "#we will save the index of the redondant box in order to delete it after \n",
    "#[image_path][ymin,xmin,ymax,xmax,i,score(i)]==>mat\n",
    "#(image_1,image_2,box_in_img1,box_in_img2)\n",
    "\n",
    "def update_mat(mat,table_index,li): \n",
    "    for j in [0,1]:\n",
    "        for i in range(len(li)):\n",
    "            if (mat[j][0]==li[i][0]):\n",
    "                K=mat[j][1]\n",
    "                L=mat[j+1][1]\n",
    "                kl=list(K[li[i][2]])\n",
    "                ll=list(L[li[i][3]])\n",
    "                if (kl[5]>ll[5]):\n",
    "                    kl[3]=ll[3]\n",
    "                    K[li[i][2]]=tuple(kl)\n",
    "                    table_index.append((j+1,li[i][3]))\n",
    "                else:\n",
    "                    ll[1]=kl[1]\n",
    "                    L[li[i][3]]=tuple(ll)\n",
    "                    table_index.append((j,li[i][2]))\n",
    "        matl=list(mat[j])\n",
    "        matl[1]=K\n",
    "        mat[j]=tuple(matl)\n",
    "        matl2=list(mat[j+1])\n",
    "        matl2[1]=L\n",
    "        mat[j+1]=tuple(matl2)\n",
    "               "
   ]
  },
  {
   "cell_type": "code",
   "execution_count": 17,
   "metadata": {},
   "outputs": [],
   "source": [
    "# this function will delete the redondant box \n",
    "def delete_elem(mat,table_index):\n",
    "    \n",
    "    \n",
    "    for i in range(len(table_index)):\n",
    "        matl=list(mat[table_index[i][0]])\n",
    "        matl[1].pop(table_index[i][1])\n",
    "        mat[table_index[i][0]]=tuple(matl)\n",
    "\n",
    "\n",
    "   \n",
    "    \n",
    "                "
   ]
  },
  {
   "cell_type": "code",
   "execution_count": 18,
   "metadata": {},
   "outputs": [],
   "source": [
    "#this function will let us save the coordinates of detected \n",
    "import csv\n",
    "def save_detect(image, latc, lonc,rotation,num_box, percentage,xo,yo,lato,lano):\n",
    "    with open('manhole.csv', 'a', encoding='UTF8') as f:\n",
    "        writer = csv.writer(f)\n",
    "        data=[image, latc, lonc,rotation,num_box, percentage,xo,yo,lato,lano]\n",
    "        writer.writerow(data)"
   ]
  },
  {
   "cell_type": "markdown",
   "metadata": {},
   "source": [
    "<h3>Main program</h3>\n",
    "<p>First, we will divide our image into 3 parts because the model was trained with images that were cropped into 3 parts</p><p>Second, we will use save_detect_img to detect the manholes and save their coordinates and insert them in matrix that represent the cropped image and the different boxes that has  </p>\n",
    "<p> Once we detect we will verifiy if there were cropped boxes</p>\n",
    "<p> we will detect cropped boxes using  detect_cropped_boxes </p>\n",
    "<p> we will update the matrix of the boxes using update_mat  </p>\n",
    "<p> we will delete redundant boxes after</p>\n",
    "            \n",
    "     \n",
    "       \n",
    "        \n",
    "           \n",
    "\n"
   ]
  },
  {
   "cell_type": "code",
   "execution_count": 22,
   "metadata": {},
   "outputs": [
    {
     "name": "stdout",
     "output_type": "stream",
     "text": [
      "Running inference for img_cropped_0.jpg... Running inference for img_cropped_1.jpg... Running inference for img_cropped_2.jpg... 0.68334156\n",
      "(3.7199057790954293, 43.499649359277605)\n"
     ]
    },
    {
     "ename": "PermissionError",
     "evalue": "[Errno 13] Permission denied: 'manhole.csv'",
     "output_type": "error",
     "traceback": [
      "\u001b[1;31m---------------------------------------------------------------------------\u001b[0m",
      "\u001b[1;31mPermissionError\u001b[0m                           Traceback (most recent call last)",
      "\u001b[1;32mC:\\Users\\ME_STU~1\\AppData\\Local\\Temp/ipykernel_1676/2580479589.py\u001b[0m in \u001b[0;36m<module>\u001b[1;34m\u001b[0m\n\u001b[0;32m     39\u001b[0m             \u001b[0mt\u001b[0m\u001b[1;33m=\u001b[0m\u001b[0mcount_geo_coordinate\u001b[0m\u001b[1;33m(\u001b[0m\u001b[1;36m43.499715\u001b[0m\u001b[1;33m,\u001b[0m \u001b[1;36m3.719969\u001b[0m\u001b[1;33m,\u001b[0m\u001b[1;36m2.5\u001b[0m\u001b[1;33m,\u001b[0m\u001b[1;36m31\u001b[0m\u001b[1;33m,\u001b[0m\u001b[1;36m5461\u001b[0m\u001b[1;33m,\u001b[0m\u001b[1;36m4096\u001b[0m\u001b[1;33m,\u001b[0m\u001b[0myc\u001b[0m\u001b[1;33m,\u001b[0m\u001b[0mxc\u001b[0m\u001b[1;33m)\u001b[0m\u001b[1;33m\u001b[0m\u001b[1;33m\u001b[0m\u001b[0m\n\u001b[0;32m     40\u001b[0m             \u001b[0mprint\u001b[0m\u001b[1;33m(\u001b[0m\u001b[0mt\u001b[0m\u001b[1;33m)\u001b[0m\u001b[1;33m\u001b[0m\u001b[1;33m\u001b[0m\u001b[0m\n\u001b[1;32m---> 41\u001b[1;33m             \u001b[0msave_detect\u001b[0m\u001b[1;33m(\u001b[0m\u001b[0mmat\u001b[0m\u001b[1;33m[\u001b[0m\u001b[0mj\u001b[0m\u001b[1;33m]\u001b[0m\u001b[1;33m[\u001b[0m\u001b[1;36m0\u001b[0m\u001b[1;33m]\u001b[0m\u001b[1;33m,\u001b[0m \u001b[1;36m43.499715\u001b[0m\u001b[1;33m,\u001b[0m\u001b[1;36m3.719969\u001b[0m\u001b[1;33m,\u001b[0m\u001b[1;36m31\u001b[0m\u001b[1;33m,\u001b[0m\u001b[0mi\u001b[0m\u001b[1;33m,\u001b[0m \u001b[0mscore\u001b[0m\u001b[1;33m,\u001b[0m\u001b[0mxc\u001b[0m\u001b[1;33m,\u001b[0m\u001b[0myc\u001b[0m\u001b[1;33m,\u001b[0m\u001b[0mt\u001b[0m\u001b[1;33m[\u001b[0m\u001b[1;36m0\u001b[0m\u001b[1;33m]\u001b[0m\u001b[1;33m,\u001b[0m\u001b[0mt\u001b[0m\u001b[1;33m[\u001b[0m\u001b[1;36m1\u001b[0m\u001b[1;33m]\u001b[0m\u001b[1;33m)\u001b[0m\u001b[1;33m\u001b[0m\u001b[1;33m\u001b[0m\u001b[0m\n\u001b[0m\u001b[0;32m     42\u001b[0m \u001b[1;33m\u001b[0m\u001b[0m\n\u001b[0;32m     43\u001b[0m \u001b[1;33m\u001b[0m\u001b[0m\n",
      "\u001b[1;32mC:\\Users\\ME_STU~1\\AppData\\Local\\Temp/ipykernel_1676/3389291311.py\u001b[0m in \u001b[0;36msave_detect\u001b[1;34m(image, latc, lonc, rotation, num_box, percentage, xo, yo, lato, lano)\u001b[0m\n\u001b[0;32m      2\u001b[0m \u001b[1;32mimport\u001b[0m \u001b[0mcsv\u001b[0m\u001b[1;33m\u001b[0m\u001b[1;33m\u001b[0m\u001b[0m\n\u001b[0;32m      3\u001b[0m \u001b[1;32mdef\u001b[0m \u001b[0msave_detect\u001b[0m\u001b[1;33m(\u001b[0m\u001b[0mimage\u001b[0m\u001b[1;33m,\u001b[0m \u001b[0mlatc\u001b[0m\u001b[1;33m,\u001b[0m \u001b[0mlonc\u001b[0m\u001b[1;33m,\u001b[0m\u001b[0mrotation\u001b[0m\u001b[1;33m,\u001b[0m\u001b[0mnum_box\u001b[0m\u001b[1;33m,\u001b[0m \u001b[0mpercentage\u001b[0m\u001b[1;33m,\u001b[0m\u001b[0mxo\u001b[0m\u001b[1;33m,\u001b[0m\u001b[0myo\u001b[0m\u001b[1;33m,\u001b[0m\u001b[0mlato\u001b[0m\u001b[1;33m,\u001b[0m\u001b[0mlano\u001b[0m\u001b[1;33m)\u001b[0m\u001b[1;33m:\u001b[0m\u001b[1;33m\u001b[0m\u001b[1;33m\u001b[0m\u001b[0m\n\u001b[1;32m----> 4\u001b[1;33m     \u001b[1;32mwith\u001b[0m \u001b[0mopen\u001b[0m\u001b[1;33m(\u001b[0m\u001b[1;34m'manhole.csv'\u001b[0m\u001b[1;33m,\u001b[0m \u001b[1;34m'a'\u001b[0m\u001b[1;33m,\u001b[0m \u001b[0mencoding\u001b[0m\u001b[1;33m=\u001b[0m\u001b[1;34m'UTF8'\u001b[0m\u001b[1;33m)\u001b[0m \u001b[1;32mas\u001b[0m \u001b[0mf\u001b[0m\u001b[1;33m:\u001b[0m\u001b[1;33m\u001b[0m\u001b[1;33m\u001b[0m\u001b[0m\n\u001b[0m\u001b[0;32m      5\u001b[0m         \u001b[0mwriter\u001b[0m \u001b[1;33m=\u001b[0m \u001b[0mcsv\u001b[0m\u001b[1;33m.\u001b[0m\u001b[0mwriter\u001b[0m\u001b[1;33m(\u001b[0m\u001b[0mf\u001b[0m\u001b[1;33m)\u001b[0m\u001b[1;33m\u001b[0m\u001b[1;33m\u001b[0m\u001b[0m\n\u001b[0;32m      6\u001b[0m         \u001b[0mdata\u001b[0m\u001b[1;33m=\u001b[0m\u001b[1;33m[\u001b[0m\u001b[0mimage\u001b[0m\u001b[1;33m,\u001b[0m \u001b[0mlatc\u001b[0m\u001b[1;33m,\u001b[0m \u001b[0mlonc\u001b[0m\u001b[1;33m,\u001b[0m\u001b[0mrotation\u001b[0m\u001b[1;33m,\u001b[0m\u001b[0mnum_box\u001b[0m\u001b[1;33m,\u001b[0m \u001b[0mpercentage\u001b[0m\u001b[1;33m,\u001b[0m\u001b[0mxo\u001b[0m\u001b[1;33m,\u001b[0m\u001b[0myo\u001b[0m\u001b[1;33m,\u001b[0m\u001b[0mlato\u001b[0m\u001b[1;33m,\u001b[0m\u001b[0mlano\u001b[0m\u001b[1;33m]\u001b[0m\u001b[1;33m\u001b[0m\u001b[1;33m\u001b[0m\u001b[0m\n",
      "\u001b[1;31mPermissionError\u001b[0m: [Errno 13] Permission denied: 'manhole.csv'"
     ]
    }
   ],
   "source": [
    "image_path='img.jpg'\n",
    "img= cv2.imread(image_path)\n",
    "mat=[]\n",
    "height = img.shape[0]\n",
    "width = img.shape[1]\n",
    "#here we cropp the images and detect the manholes \n",
    "for i in [0,1,2]:\n",
    "    #here we divide our img \n",
    "    cropped_image = img[int(height/2):height, int(width*i/3):int(width*(1+i)/3)]\n",
    "    path_cropped=image_path[:len(image_path)-4]+'_cropped_'+str(i)+'.jpg'\n",
    "    cv2.imwrite(path_cropped, cropped_image)\n",
    "    local=[]\n",
    "    path_detect=save_detect_img(path_cropped,i,local)\n",
    "    mat.append((path_detect,local))\n",
    "li=[]\n",
    "table_index=[]\n",
    "#here we detect cropped boxes and delete redundant ones \n",
    "if (detect_cropped_boxes(mat,li)):\n",
    "    update_mat(mat,table_index,li)\n",
    "    delete_elem(mat,table_index)\n",
    "local=[]\n",
    "#here we calculate geolocalization and save them in file \n",
    "\n",
    "\n",
    "for j in range(len(mat)):\n",
    "    if (len(mat[j][1])!=0):\n",
    "        local=mat[j][1]\n",
    "        for loc in local:\n",
    "            ymin=loc[0]\n",
    "            xmin=loc[1]\n",
    "            ymax=loc[2]\n",
    "            xmax=loc[3]\n",
    "            i=loc[4]\n",
    "            \n",
    "            score=loc[5]\n",
    "            print(score)\n",
    "            yc=(ymin+ymax)/2\n",
    "            xc=(xmin*(j+1)+xmax*(j+1))/2   \n",
    "            t=count_geo_coordinate(43.499715, 3.719969,2.5,31,5461,4096,yc,xc)\n",
    "            print(t)\n",
    "            save_detect(mat[j][0], 43.499715,3.719969,31,i, score,xc,yc,t[0],t[1])\n",
    "        \n",
    "        \n",
    "\n",
    "\n",
    "    \n",
    "\n",
    "    "
   ]
  },
  {
   "cell_type": "code",
   "execution_count": 35,
   "metadata": {},
   "outputs": [
    {
     "name": "stdout",
     "output_type": "stream",
     "text": [
      "22\n"
     ]
    }
   ],
   "source": []
  },
  {
   "cell_type": "code",
   "execution_count": null,
   "metadata": {},
   "outputs": [],
   "source": []
  }
 ],
 "metadata": {
  "kernelspec": {
   "display_name": "Python 3 (ipykernel)",
   "language": "python",
   "name": "python3"
  },
  "language_info": {
   "codemirror_mode": {
    "name": "ipython",
    "version": 3
   },
   "file_extension": ".py",
   "mimetype": "text/x-python",
   "name": "python",
   "nbconvert_exporter": "python",
   "pygments_lexer": "ipython3",
   "version": "3.9.7"
  }
 },
 "nbformat": 4,
 "nbformat_minor": 4
}
